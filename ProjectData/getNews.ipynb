{
 "cells": [
  {
   "cell_type": "code",
   "execution_count": 1,
   "metadata": {},
   "outputs": [],
   "source": [
    "import nltk, re\n",
    "import urllib.request"
   ]
  },
  {
   "cell_type": "code",
   "execution_count": 2,
   "metadata": {},
   "outputs": [],
   "source": [
    "def getNewsLinks(url) :\n",
    "    response = urllib.request.urlopen(url)\n",
    "    data = response.read()\n",
    "    newsListText = data.decode('UTF-8')\n",
    "    matches = re.findall(r\"class=\\\"news-list__headline-link\\\" href=\\\"(.*?)\\\">\", newsListText)\n",
    "    return matches"
   ]
  },
  {
   "cell_type": "code",
   "execution_count": 3,
   "metadata": {},
   "outputs": [],
   "source": [
    "#delete\n",
    "data = getNewsLinks(\"https://www.skysports.com/la-liga-news\")"
   ]
  },
  {
   "cell_type": "code",
   "execution_count": 4,
   "metadata": {
    "scrolled": true
   },
   "outputs": [
    {
     "data": {
      "text/plain": [
       "'https://www.skysports.com/football/news/11833/11859264/lionel-messi-will-stay-at-barcelona-for-another-five-years-insists-president-josep-maria-bartomeu'"
      ]
     },
     "execution_count": 4,
     "metadata": {},
     "output_type": "execute_result"
    }
   ],
   "source": [
    "#delete\n",
    "data[0]"
   ]
  },
  {
   "cell_type": "code",
   "execution_count": 5,
   "metadata": {},
   "outputs": [],
   "source": [
    "def getNewsText(url) :\n",
    "    response = urllib.request.urlopen(url)\n",
    "    data = response.read()\n",
    "    newsHTML = data.decode('UTF-8')\n",
    "    matches = re.findall(r\"\\\"articleBody\\\": \\\"(.*?) \\\",\\\"mainEntityOfPage\", newsHTML)\n",
    "    return matches[0] if matches else \"\""
   ]
  },
  {
   "cell_type": "code",
   "execution_count": 6,
   "metadata": {},
   "outputs": [
    {
     "data": {
      "text/plain": [
       "'Barcelona president Josep Maria Bartomeu has insisted talisman Lionel Messi could remain at the Nou Camp for at least another five years. The Argentinian is under contract until 2021 but has a clause inserted in his deal which could see him leave the Nou Camp for nothing in the summer.And although the club are preparing for a post-Messi era with a number of high-profile signings over the past few years, Bartomeu believes the side won\\'t lose Messi anytime soon.\\\\\"Surely it will be the wish of all parties, if he (Lionel Messi) feels strong and ambitious, to extend this contract indefinitely,\\\\\" Josep Maria Bartomeu said.\\\\\"Ultimately it is he who must decide. He has earned the right to decide when he will stop playing football. But like he said a few weeks ago, he wants to finish his playing career at Barcelona.\\\\\"Over the next two or three seasons our leader will continue to be Leo Messi. There\\'s no doubt that he is still young, still strong. He is still ambitious.\\\\\"So Leo Messi will still play with us for the next two, three, four or five years. I have no doubts about that.\\\\\"\\'Messi will be with Barca forever\\'However long the 32-year-old continues playing for La Liga giants, Bartomeu is adamant that Messi\\'s achievements will mean he will forever be linked with Barcelona.\\\\\"I have no doubt that after Messi finishes his career as a footballer he will remain linked to this club for the rest of his life,\\\\\" Bartomeu added.\\\\\"Firstly because he is the best player in the history of football and this is where he played. I doubt that anybody else will be able to match his achievements or his records.\\\\\"Or his talent, leadership and the supremacy he has in the world of football. So he will continue to be linked to Barca for life. Without a doubt.\\\\\"'"
      ]
     },
     "execution_count": 6,
     "metadata": {},
     "output_type": "execute_result"
    }
   ],
   "source": [
    "#delete\n",
    "getNewsText(\"https://www.skysports.com/football/news/11833/11859264/lionel-messi-will-stay-at-barcelona-for-another-five-years-insists-president-josep-maria-bartomeu\")"
   ]
  },
  {
   "cell_type": "code",
   "execution_count": 10,
   "metadata": {},
   "outputs": [],
   "source": [
    "def writeNewsToFile(url, filename) :\n",
    "    f = open(filename,\"a+\")\n",
    "    for i in range(1,10):\n",
    "        links = getNewsLinks(\"{}{}\".format(url,i))\n",
    "\n",
    "        for link in links :\n",
    "            text = getNewsText(link)\n",
    "            f.write(\"{}\\n\".format(text))\n",
    "            \n",
    "    f.close()"
   ]
  },
  {
   "cell_type": "code",
   "execution_count": 12,
   "metadata": {},
   "outputs": [],
   "source": [
    "writeNewsToFile(\"https://www.skysports.com/la-liga-news/more/\", \"LaLigaNews.txt\")"
   ]
  },
  {
   "cell_type": "code",
   "execution_count": 11,
   "metadata": {},
   "outputs": [],
   "source": [
    "writeNewsToFile(\"https://www.skysports.com/premier-league-news/more/\", \"PremierLeagueNews.txt\")"
   ]
  },
  {
   "cell_type": "code",
   "execution_count": 13,
   "metadata": {},
   "outputs": [],
   "source": [
    "writeNewsToFile(\"https://www.skysports.com/bundesliga-news/more/\", \"BundesligaNews.txt\")"
   ]
  },
  {
   "cell_type": "code",
   "execution_count": 14,
   "metadata": {},
   "outputs": [],
   "source": [
    "writeNewsToFile(\"https://www.skysports.com/serie-a-news/more/\", \"SerieANews.txt\")"
   ]
  },
  {
   "cell_type": "code",
   "execution_count": 16,
   "metadata": {},
   "outputs": [],
   "source": [
    "writeNewsToFile(\"https://www.skysports.com/ligue-1-news/more/\", \"Ligue1News.txt\")"
   ]
  },
  {
   "cell_type": "code",
   "execution_count": 17,
   "metadata": {},
   "outputs": [],
   "source": [
    "writeNewsToFile(\"https://www.skysports.com/eredivisie-news/more/\", \"EredivisieNews.txt\")"
   ]
  }
 ],
 "metadata": {
  "kernelspec": {
   "display_name": "Python 3",
   "language": "python",
   "name": "python3"
  },
  "language_info": {
   "codemirror_mode": {
    "name": "ipython",
    "version": 3
   },
   "file_extension": ".py",
   "mimetype": "text/x-python",
   "name": "python",
   "nbconvert_exporter": "python",
   "pygments_lexer": "ipython3",
   "version": "3.7.3"
  }
 },
 "nbformat": 4,
 "nbformat_minor": 2
}
